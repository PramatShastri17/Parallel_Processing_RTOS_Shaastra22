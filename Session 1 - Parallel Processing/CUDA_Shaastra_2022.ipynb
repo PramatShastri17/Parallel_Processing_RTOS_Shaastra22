{
  "nbformat": 4,
  "nbformat_minor": 0,
  "metadata": {
    "colab": {
      "name": "CUDA_Shaastra_2022.ipynb",
      "provenance": [],
      "collapsed_sections": []
    },
    "kernelspec": {
      "name": "python3",
      "display_name": "Python 3"
    },
    "language_info": {
      "name": "python"
    },
    "accelerator": "GPU"
  },
  "cells": [
    {
      "cell_type": "code",
      "execution_count": null,
      "metadata": {
        "id": "iTvul_vEF1o4"
      },
      "outputs": [],
      "source": [
        "!apt-get --purge remove cuda nvidia* libnvidia-*\n",
        "!dpkg -l | grep cuda- | awk '{print $2}' | xargs -n1 dpkg --purge\n",
        "!apt-get remove cuda-*\n",
        "!apt autoremove\n",
        "!apt-get update"
      ]
    },
    {
      "cell_type": "markdown",
      "source": [
        "Install CUDA Version 9"
      ],
      "metadata": {
        "id": "dvFsuRgbI4Pw"
      }
    },
    {
      "cell_type": "code",
      "source": [
        "!wget https://developer.nvidia.com/compute/cuda/9.2/Prod/local_installers/cuda-repo-ubuntu1604-9-2-local_9.2.88-1_amd64 -O cuda-repo-ubuntu1604-9-2-local_9.2.88-1_amd64.deb\n",
        "!dpkg -i cuda-repo-ubuntu1604-9-2-local_9.2.88-1_amd64.deb\n",
        "!apt-key add /var/cuda-repo-9-2-local/7fa2af80.pub\n",
        "!apt-get update\n",
        "!apt-get install cuda-9.2"
      ],
      "metadata": {
        "id": "nBgAVNTZGLQt"
      },
      "execution_count": null,
      "outputs": []
    },
    {
      "cell_type": "markdown",
      "source": [
        "Check the CUDA version"
      ],
      "metadata": {
        "id": "5hS87LiDIyYU"
      }
    },
    {
      "cell_type": "code",
      "source": [
        "!nvcc --version"
      ],
      "metadata": {
        "colab": {
          "base_uri": "https://localhost:8080/"
        },
        "id": "SDjcREDAGik8",
        "outputId": "a3154470-e0f5-4907-810f-e68625b9bcd7"
      },
      "execution_count": 3,
      "outputs": [
        {
          "output_type": "stream",
          "name": "stdout",
          "text": [
            "nvcc: NVIDIA (R) Cuda compiler driver\n",
            "Copyright (c) 2005-2018 NVIDIA Corporation\n",
            "Built on Wed_Apr_11_23:16:29_CDT_2018\n",
            "Cuda compilation tools, release 9.2, V9.2.88\n"
          ]
        }
      ]
    },
    {
      "cell_type": "markdown",
      "source": [
        "Run the given command to install an extension to run nvcc (NVIDIA CUDA Compiler) from the notebook cells."
      ],
      "metadata": {
        "id": "tabnWvlVISBV"
      }
    },
    {
      "cell_type": "code",
      "source": [
        "!pip install git+git://github.com/andreinechaev/nvcc4jupyter.git"
      ],
      "metadata": {
        "id": "hYoEK-cMII4I"
      },
      "execution_count": null,
      "outputs": []
    },
    {
      "cell_type": "markdown",
      "source": [
        "Load the extension "
      ],
      "metadata": {
        "id": "gPbvDiwEIgWW"
      }
    },
    {
      "cell_type": "code",
      "source": [
        "%load_ext nvcc_plugin"
      ],
      "metadata": {
        "colab": {
          "base_uri": "https://localhost:8080/"
        },
        "id": "ymY5XoDCIOQ3",
        "outputId": "148ed14a-3fc8-4690-d9a2-2f10308acf11"
      },
      "execution_count": 5,
      "outputs": [
        {
          "output_type": "stream",
          "name": "stdout",
          "text": [
            "created output directory at /content/src\n",
            "Out bin /content/result.out\n"
          ]
        }
      ]
    },
    {
      "cell_type": "markdown",
      "source": [
        "Test by running the \"Hello World!\" CUDA Code."
      ],
      "metadata": {
        "id": "3WrFM_HIIl7a"
      }
    },
    {
      "cell_type": "code",
      "source": [
        "%%cu\n",
        "\n",
        "#include <bits/stdc++.h>\n",
        "using namespace std;\n",
        "\n",
        "__global__ void hello(){\n",
        "    printf(\"Hello World!\\n\");\n",
        "}\n",
        "\n",
        "int main() {\n",
        "    hello<<<1,1>>>();\n",
        "    cudaDeviceSynchronize();\n",
        "    return 0;\n",
        "}"
      ],
      "metadata": {
        "colab": {
          "base_uri": "https://localhost:8080/"
        },
        "id": "umJsU-fPIj4r",
        "outputId": "995ba9e1-d938-4105-e89f-4ef3b6616d60"
      },
      "execution_count": 6,
      "outputs": [
        {
          "output_type": "stream",
          "name": "stdout",
          "text": [
            "Hello World!\n",
            "\n"
          ]
        }
      ]
    },
    {
      "cell_type": "markdown",
      "source": [
        "Vector Addition"
      ],
      "metadata": {
        "id": "hm14xVkWOoIT"
      }
    },
    {
      "cell_type": "code",
      "source": [
        "%%cu\n",
        "\n",
        "#include <bits/stdc++.h>\n",
        "#include<stdlib.h>\n",
        "#include<stdio.h>\n",
        "#include<time.h>\n",
        "\n",
        "#define N 100000000\n",
        "\n",
        "\n",
        "void addvec(int *sum, int *a, int *b, int n) {\n",
        "    for(int i = 0; i < n; i++) {\n",
        "        sum[i] = a[i] + b[i];\n",
        "    }\n",
        "}\n",
        "\n",
        "int main() {\n",
        "    int *a, *b, *sum;\n",
        "\n",
        "    // Allocate Memory\n",
        "    a = (int*)malloc(sizeof(int)*N);\n",
        "    b = (int*)malloc(sizeof(int)*N);\n",
        "    sum = (int*)malloc(sizeof(int)*N);\n",
        "\n",
        "    srand(time(0)); // Seed rand()\n",
        "\n",
        "    // Initialize the arrays \n",
        "    for(int i = 0; i < N; i++) {\n",
        "        a[i] = rand();\n",
        "        b[i] = rand();\n",
        "    }\n",
        "\n",
        "    addvec(sum,a,b,N);\n",
        "\n",
        "    for(int i=0; i < 100; i++) {\n",
        "        if((i%10)==0 && i!=0) printf(\"\\n\");\n",
        "        printf(\"%d \", (sum[i]-a[i]-b[i]));\n",
        "    }    \n",
        "}"
      ],
      "metadata": {
        "colab": {
          "base_uri": "https://localhost:8080/"
        },
        "id": "KtXfGuCHJb89",
        "outputId": "a7512959-854e-49e1-8529-f59d9c2062f9"
      },
      "execution_count": 7,
      "outputs": [
        {
          "output_type": "stream",
          "name": "stdout",
          "text": [
            "0 0 0 0 0 0 0 0 0 0 \n",
            "0 0 0 0 0 0 0 0 0 0 \n",
            "0 0 0 0 0 0 0 0 0 0 \n",
            "0 0 0 0 0 0 0 0 0 0 \n",
            "0 0 0 0 0 0 0 0 0 0 \n",
            "0 0 0 0 0 0 0 0 0 0 \n",
            "0 0 0 0 0 0 0 0 0 0 \n",
            "0 0 0 0 0 0 0 0 0 0 \n",
            "0 0 0 0 0 0 0 0 0 0 \n",
            "0 0 0 0 0 0 0 0 0 0 \n"
          ]
        }
      ]
    },
    {
      "cell_type": "markdown",
      "source": [
        "On GPU with 1 Thread"
      ],
      "metadata": {
        "id": "4y4nGik2Ruo-"
      }
    },
    {
      "cell_type": "code",
      "source": [
        "%%cu\n",
        "\n",
        "#include <bits/stdc++.h>\n",
        "#include<stdlib.h>\n",
        "#include<stdio.h>\n",
        "#include<time.h>\n",
        "\n",
        "#define N 100000000\n",
        "\n",
        "\n",
        "__global__ void addvec(int *sum, int *a, int *b, int n) {\n",
        "    for(int i = 0; i < n; i++) {\n",
        "        sum[i] = a[i] + b[i];\n",
        "    }\n",
        "}\n",
        "\n",
        "int main() {\n",
        "    int *a, *b, *sum;\n",
        "\n",
        "    // Allocate Memory\n",
        "    a = (int*)malloc(sizeof(int)*N);\n",
        "    b = (int*)malloc(sizeof(int)*N);\n",
        "    sum = (int*)malloc(sizeof(int)*N);\n",
        "\n",
        "    srand(time(0)); // Seed rand()\n",
        "\n",
        "    // Initialize the arrays \n",
        "    for(int i = 0; i < N; i++) {\n",
        "        a[i] = rand();\n",
        "        b[i] = rand();\n",
        "    }\n",
        "\n",
        "    addvec<<<1,1>>>(sum,a,b,N);\n",
        "\n",
        "    for(int i=0; i < 100; i++) {\n",
        "        if((i%10)==0 && i!=0) printf(\"\\n\");\n",
        "        printf(\"%d \", (sum[i]-a[i]-b[i]));\n",
        "    }    \n",
        "}"
      ],
      "metadata": {
        "colab": {
          "base_uri": "https://localhost:8080/"
        },
        "id": "gVn8DFvpQ5MR",
        "outputId": "4cc55d1f-c7fa-4d78-9403-ae921d943643"
      },
      "execution_count": 8,
      "outputs": [
        {
          "output_type": "stream",
          "name": "stdout",
          "text": [
            "-1900336617 1218874304 -1968213063 1910910017 -2042127667 1926465564 1684999816 1304094969 -2117003875 -1477387866 \n",
            "1214081669 -1610799502 -2107658460 1335962836 -1221924173 1714638098 -2108275262 -1141355803 2011056644 -938639566 \n",
            "631202740 582746946 1228891060 -2118606168 -1905321585 313849285 -2014738790 -1181120331 -1868529198 1693356167 \n",
            "784351085 -1917746866 2046539370 1042038442 2005418839 -268442307 1091224871 -1489626811 -2093820743 1432003114 \n",
            "1385707578 1752068699 -1698581467 1691022480 725790872 1932370555 -1797561682 186217778 1250488313 -2135877243 \n",
            "1331655092 -549922214 -2090014913 -1699455051 794668940 -1740527041 1478400462 -596138344 -1564993623 507675625 \n",
            "-1963188162 -1476544445 -1840297429 -1364288509 2085413198 -1628869260 -1609518007 1544980956 -2070856852 706566015 \n",
            "1725557615 -1243295045 -1022419368 -1311190226 -744549254 -1279132096 1636531578 2121447331 -1898519562 1353908680 \n",
            "-595523283 -691005371 1841215240 -1609606915 -1447982159 -1505829528 -1937001926 1334049885 1853892981 895616658 \n",
            "1366828705 -1598393690 -991708332 -1495372866 -867271186 1591633036 1731058881 -1520352112 1754603249 1195148857 \n"
          ]
        }
      ]
    },
    {
      "cell_type": "markdown",
      "source": [
        "Why does the above program not work??"
      ],
      "metadata": {
        "id": "1CRTEOpeSRsP"
      }
    },
    {
      "cell_type": "markdown",
      "source": [
        "Parallelizing"
      ],
      "metadata": {
        "id": "g9YgkujRfdbC"
      }
    },
    {
      "cell_type": "code",
      "source": [
        "%%cu\n",
        "\n",
        "#include <bits/stdc++.h>\n",
        "#include<stdlib.h>\n",
        "#include<stdio.h>\n",
        "#include<time.h>\n",
        "#include<cuda.h>\n",
        "\n",
        "#define N 100000000\n",
        "\n",
        "\n",
        "__global__ void addvec(int *sum, int *a, int *b, int n) {\n",
        "    int index = threadIdx.x;\n",
        "    int stride = blockDim.x;\n",
        "\n",
        "    for(int i = index; i < n; i += stride) {\n",
        "        sum[i] = a[i] + b[i];\n",
        "    }\n",
        "}\n",
        "\n",
        "int main() {\n",
        "    int *a, *b, *sum;\n",
        "    int *d_a, *d_b, *d_sum;\n",
        "\n",
        "    // Allocate Memory on host (CPU)\n",
        "    a = (int*)malloc(sizeof(int)*N);\n",
        "    b = (int*)malloc(sizeof(int)*N);\n",
        "    sum = (int*)malloc(sizeof(int)*N);\n",
        "\n",
        "    srand(time(0)); // Seed rand()\n",
        "\n",
        "    // Initialize the arrays \n",
        "    for(int i = 0; i < N; i++) {\n",
        "        a[i] = rand();\n",
        "        b[i] = rand();\n",
        "    }\n",
        "\n",
        "    // Allocate Memory on device (GPU) \n",
        "    cudaMalloc((void**)&d_a, sizeof(int)*N);\n",
        "    cudaMalloc((void**)&d_b, sizeof(int)*N);\n",
        "    cudaMalloc((void**)&d_sum, sizeof(int)*N);\n",
        "\n",
        "    // Transfer Data from host to device\n",
        "    cudaMemcpy(d_a, a, sizeof(int)*N, cudaMemcpyHostToDevice);\n",
        "    cudaMemcpy(d_b, b, sizeof(int)*N, cudaMemcpyHostToDevice);\n",
        "\n",
        "    addvec<<<1,256>>>(d_sum,d_a,d_b,N);\n",
        "\n",
        "    cudaDeviceSynchronize();\n",
        "\n",
        "    cudaMemcpy(sum, d_sum, sizeof(int)*N, cudaMemcpyDeviceToHost);\n",
        "\n",
        "    for(int i=0; i < 100; i++) {\n",
        "        if((i%10)==0 && i!=0) printf(\"\\n\");\n",
        "        printf(\"%d \", (sum[i]-a[i]-b[i]));\n",
        "    }\n",
        "\n",
        "    free(a); free(b); free(sum);\n",
        "    cudaFree(d_a); cudaFree(d_b); cudaFree(d_sum);\n",
        "}"
      ],
      "metadata": {
        "colab": {
          "base_uri": "https://localhost:8080/"
        },
        "id": "csL0JKtsSHTn",
        "outputId": "e593d9a2-236e-4d58-ee82-0d3c06e8546e"
      },
      "execution_count": 9,
      "outputs": [
        {
          "output_type": "stream",
          "name": "stdout",
          "text": [
            "0 0 0 0 0 0 0 0 0 0 \n",
            "0 0 0 0 0 0 0 0 0 0 \n",
            "0 0 0 0 0 0 0 0 0 0 \n",
            "0 0 0 0 0 0 0 0 0 0 \n",
            "0 0 0 0 0 0 0 0 0 0 \n",
            "0 0 0 0 0 0 0 0 0 0 \n",
            "0 0 0 0 0 0 0 0 0 0 \n",
            "0 0 0 0 0 0 0 0 0 0 \n",
            "0 0 0 0 0 0 0 0 0 0 \n",
            "0 0 0 0 0 0 0 0 0 0 \n"
          ]
        }
      ]
    },
    {
      "cell_type": "markdown",
      "source": [
        "Adding more thread blocks"
      ],
      "metadata": {
        "id": "RUKSLUTDgd9e"
      }
    },
    {
      "cell_type": "code",
      "source": [
        "%%cu\n",
        "\n",
        "#include <bits/stdc++.h>\n",
        "#include<stdlib.h>\n",
        "#include<stdio.h>\n",
        "#include<time.h>\n",
        "#include<cuda.h>\n",
        "\n",
        "#define N 100000000\n",
        "\n",
        "\n",
        "__global__ void addvec(int *sum, int *a, int *b, int n) {\n",
        "    int tid = blockIdx.x * blockDim.x + threadIdx.x;\n",
        "\n",
        "    if (tid < n) { sum[tid] = a[tid] + b[tid]; };\n",
        "}\n",
        "\n",
        "int main() {\n",
        "    int *a, *b, *sum;\n",
        "    int *d_a, *d_b, *d_sum;\n",
        "\n",
        "    // Allocate Memory on host (CPU)\n",
        "    a = (int*)malloc(sizeof(int)*N);\n",
        "    b = (int*)malloc(sizeof(int)*N);\n",
        "    sum = (int*)malloc(sizeof(int)*N);\n",
        "\n",
        "    srand(time(0)); // Seed rand()\n",
        "\n",
        "    // Initialize the arrays \n",
        "    for(int i = 0; i < N; i++) {\n",
        "        a[i] = rand();\n",
        "        b[i] = rand();\n",
        "    }\n",
        "\n",
        "    // Allocate Memory on device (GPU) \n",
        "    cudaMalloc((void**)&d_a, sizeof(int)*N);\n",
        "    cudaMalloc((void**)&d_b, sizeof(int)*N);\n",
        "    cudaMalloc((void**)&d_sum, sizeof(int)*N);\n",
        "\n",
        "    // Transfer Data from host to device\n",
        "    cudaMemcpy(d_a, a, sizeof(int)*N, cudaMemcpyHostToDevice);\n",
        "    cudaMemcpy(d_b, b, sizeof(int)*N, cudaMemcpyHostToDevice);\n",
        "\n",
        "    int block_size = 256;\n",
        "    int grid_size = ((N + block_size)/block_size);\n",
        "    \n",
        "    addvec<<<grid_size,block_size>>>(d_sum,d_a,d_b,N);\n",
        "\n",
        "    cudaDeviceSynchronize();\n",
        "\n",
        "    cudaMemcpy(sum, d_sum, sizeof(int)*N, cudaMemcpyDeviceToHost);\n",
        "\n",
        "    for(int i=0; i < 100; i++) {\n",
        "        if((i%10)==0 && i!=0) printf(\"\\n\");\n",
        "        printf(\"%d \", (sum[i]-a[i]-b[i]));\n",
        "    }\n",
        "\n",
        "    free(a); free(b); free(sum);\n",
        "    cudaFree(d_a); cudaFree(d_b); cudaFree(d_sum);\n",
        "}"
      ],
      "metadata": {
        "colab": {
          "base_uri": "https://localhost:8080/"
        },
        "id": "Vn1E7Gn_T4pA",
        "outputId": "123e9b6b-bf4c-421a-d282-9d01ccbb687a"
      },
      "execution_count": 10,
      "outputs": [
        {
          "output_type": "stream",
          "name": "stdout",
          "text": [
            "0 0 0 0 0 0 0 0 0 0 \n",
            "0 0 0 0 0 0 0 0 0 0 \n",
            "0 0 0 0 0 0 0 0 0 0 \n",
            "0 0 0 0 0 0 0 0 0 0 \n",
            "0 0 0 0 0 0 0 0 0 0 \n",
            "0 0 0 0 0 0 0 0 0 0 \n",
            "0 0 0 0 0 0 0 0 0 0 \n",
            "0 0 0 0 0 0 0 0 0 0 \n",
            "0 0 0 0 0 0 0 0 0 0 \n",
            "0 0 0 0 0 0 0 0 0 0 \n"
          ]
        }
      ]
    },
    {
      "cell_type": "code",
      "source": [
        "%%cu\n",
        "\n",
        "#include <bits/stdc++.h>\n",
        "#include<stdlib.h>\n",
        "#include<stdio.h>\n",
        "#include<time.h>\n",
        "#include<cuda.h>\n",
        "\n",
        "#define N 1000000\n",
        "\n",
        "\n",
        "__global__ void addvec(int *sum, int *a, int *b, int n) {\n",
        "    int tid = blockIdx.x * blockDim.x + threadIdx.x;\n",
        "\n",
        "    if (tid < n) { sum[tid] = a[tid] + b[tid]; };\n",
        "}\n",
        "\n",
        "int main() {\n",
        "    int *a, *b, *sum;\n",
        "\n",
        "    // Allocating Unified Memory - accesible by host and device\n",
        "    cudaMallocManaged(&a, sizeof(int)*N);\n",
        "    cudaMallocManaged(&b, sizeof(int)*N);\n",
        "    cudaMallocManaged(&sum, sizeof(int)*N);\n",
        "\n",
        "    srand(time(0)); // Seed rand()\n",
        "\n",
        "    // Initialize the arrays \n",
        "    for(int i = 0; i < N; i++) {\n",
        "        a[i] = rand();\n",
        "        b[i] = rand();\n",
        "    }\n",
        "\n",
        "    int block_size = 256;\n",
        "    int grid_size = ((N + block_size)/block_size);\n",
        "\n",
        "    addvec<<<grid_size,block_size>>>(sum,a,b,N);\n",
        "\n",
        "    cudaDeviceSynchronize();\n",
        "\n",
        "    for(int i=0; i < 100; i++) {\n",
        "        if((i%10)==0 && i!=0) printf(\"\\n\");\n",
        "        printf(\"%d \", (sum[i]-a[i]-b[i]));\n",
        "    }\n",
        "\n",
        "    cudaFree(a); cudaFree(b); cudaFree(sum);\n",
        "}"
      ],
      "metadata": {
        "colab": {
          "base_uri": "https://localhost:8080/"
        },
        "id": "Y23xl55ruZyp",
        "outputId": "b4fb1fd9-5ec0-4453-edfc-c54c792a2921"
      },
      "execution_count": 15,
      "outputs": [
        {
          "output_type": "stream",
          "name": "stdout",
          "text": [
            "0 0 0 0 0 0 0 0 0 0 \n",
            "0 0 0 0 0 0 0 0 0 0 \n",
            "0 0 0 0 0 0 0 0 0 0 \n",
            "0 0 0 0 0 0 0 0 0 0 \n",
            "0 0 0 0 0 0 0 0 0 0 \n",
            "0 0 0 0 0 0 0 0 0 0 \n",
            "0 0 0 0 0 0 0 0 0 0 \n",
            "0 0 0 0 0 0 0 0 0 0 \n",
            "0 0 0 0 0 0 0 0 0 0 \n",
            "0 0 0 0 0 0 0 0 0 0 \n"
          ]
        }
      ]
    }
  ]
}